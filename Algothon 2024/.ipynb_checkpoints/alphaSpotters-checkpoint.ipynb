{
 "cells": [
  {
   "cell_type": "code",
   "execution_count": 16,
   "id": "6d849521-bd2d-497c-946d-1b26b5cc9891",
   "metadata": {},
   "outputs": [],
   "source": [
    "\n",
    "import numpy as np\n",
    "\n",
    "##### TODO #########################################\n",
    "### RENAME THIS FILE TO YOUR TEAM NAME #############\n",
    "### IMPLEMENT 'getMyPosition' FUNCTION #############\n",
    "### TO RUN, RUN 'eval.py' ##########################\n",
    "\n",
    "nInst = 50\n",
    "currentPos = np.zeros(nInst)\n",
    "\n",
    "\n",
    "def getMyPosition(prcSoFar):\n",
    "    global currentPos\n",
    "    (nins, nt) = prcSoFar.shape\n",
    "    if (nt < 2):\n",
    "        return np.zeros(nins)\n",
    "    lastRet = np.log(prcSoFar[:, -1] / prcSoFar[:, -2])\n",
    "    lNorm = np.sqrt(lastRet.dot(lastRet))\n",
    "    lastRet /= lNorm\n",
    "\n",
    "    rpos = np.array([int(x) for x in 5000 * lastRet / prcSoFar[:, -1]])\n",
    "    currentPos = np.array([int(x) for x in currentPos+rpos])\n",
    "    return currentPos\n",
    "\n",
    "\n"
   ]
  }
 ],
 "metadata": {
  "kernelspec": {
   "display_name": "Python 3 (ipykernel)",
   "language": "python",
   "name": "python3"
  },
  "language_info": {
   "codemirror_mode": {
    "name": "ipython",
    "version": 3
   },
   "file_extension": ".py",
   "mimetype": "text/x-python",
   "name": "python",
   "nbconvert_exporter": "python",
   "pygments_lexer": "ipython3",
   "version": "3.11.2"
  }
 },
 "nbformat": 4,
 "nbformat_minor": 5
}
